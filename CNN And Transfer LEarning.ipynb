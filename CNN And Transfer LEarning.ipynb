{
 "cells": [
  {
   "cell_type": "markdown",
   "metadata": {
    "id": "G6BzkpbK8tIQ"
   },
   "source": [
    "## Creating CNN Using Scratch And Transfer Learning"
   ]
  },
  {
   "cell_type": "code",
   "execution_count": null,
   "metadata": {
    "colab": {
     "base_uri": "https://localhost:8080/"
    },
    "executionInfo": {
     "elapsed": 114258,
     "status": "ok",
     "timestamp": 1630766698408,
     "user": {
      "displayName": "4227_Anushka Sawant",
      "photoUrl": "https://lh3.googleusercontent.com/a-/AOh14GgxjPPD3ZrdXhw5mOWqmI8da0j34Pa1VI458CA3sQ=s64",
      "userId": "01062978812365864678"
     },
     "user_tz": -330
    },
    "id": "luTL8WVp84Jw",
    "outputId": "4041ee9c-be98-4987-af98-9be5654ccc74"
   },
   "outputs": [],
   "source": []
  },
  {
   "cell_type": "markdown",
   "metadata": {
    "id": "yDi-eJDc8tIV"
   },
   "source": [
    "Please download the dataset from the below url"
   ]
  },
  {
   "cell_type": "code",
   "execution_count": 1,
   "metadata": {
    "executionInfo": {
     "elapsed": 1864,
     "status": "ok",
     "timestamp": 1630766700252,
     "user": {
      "displayName": "4227_Anushka Sawant",
      "photoUrl": "https://lh3.googleusercontent.com/a-/AOh14GgxjPPD3ZrdXhw5mOWqmI8da0j34Pa1VI458CA3sQ=s64",
      "userId": "01062978812365864678"
     },
     "user_tz": -330
    },
    "id": "by58FSYq8tIW"
   },
   "outputs": [],
   "source": [
    "# import the libraries as shown below\n",
    "\n",
    "from tensorflow.keras.layers import Input, Lambda, Dense, Flatten,Conv2D\n",
    "from tensorflow.keras.models import Model\n",
    "from tensorflow.keras.applications.vgg19 import VGG19\n",
    "from tensorflow.keras.applications.resnet50 import preprocess_input\n",
    "from tensorflow.keras.preprocessing import image\n",
    "from tensorflow.keras.preprocessing.image import ImageDataGenerator,load_img\n",
    "from tensorflow.keras.models import Sequential\n",
    "import numpy as np\n",
    "from glob import glob\n",
    "import matplotlib.pyplot as plt"
   ]
  },
  {
   "cell_type": "code",
   "execution_count": null,
   "metadata": {},
   "outputs": [],
   "source": []
  },
  {
   "cell_type": "code",
   "execution_count": 2,
   "metadata": {
    "executionInfo": {
     "elapsed": 13,
     "status": "ok",
     "timestamp": 1630766700254,
     "user": {
      "displayName": "4227_Anushka Sawant",
      "photoUrl": "https://lh3.googleusercontent.com/a-/AOh14GgxjPPD3ZrdXhw5mOWqmI8da0j34Pa1VI458CA3sQ=s64",
      "userId": "01062978812365864678"
     },
     "user_tz": -330
    },
    "id": "2uVClskg8tIZ"
   },
   "outputs": [],
   "source": [
    "# re-size all the images to this\n",
    "IMAGE_SIZE = [224, 224]\n",
    "\n",
    "train_path = 'C:\\\\Users\\\\Anushka\\\\Desktop\\\\DMWminiproject\\\\Dataset\\\\Dataset\\\\Train'\n",
    "valid_path = 'C:\\\\Users\\\\Anushka\\\\Desktop\\\\DMWminiproject\\\\Dataset\\\\Dataset\\\\Test'\n"
   ]
  },
  {
   "cell_type": "code",
   "execution_count": null,
   "metadata": {},
   "outputs": [],
   "source": []
  },
  {
   "cell_type": "code",
   "execution_count": 3,
   "metadata": {
    "colab": {
     "base_uri": "https://localhost:8080/"
    },
    "executionInfo": {
     "elapsed": 1629,
     "status": "ok",
     "timestamp": 1630766701872,
     "user": {
      "displayName": "4227_Anushka Sawant",
      "photoUrl": "https://lh3.googleusercontent.com/a-/AOh14GgxjPPD3ZrdXhw5mOWqmI8da0j34Pa1VI458CA3sQ=s64",
      "userId": "01062978812365864678"
     },
     "user_tz": -330
    },
    "id": "REsZCCbC8tIb",
    "outputId": "02f76cca-ed45-4fb4-9363-355cc17440bf"
   },
   "outputs": [],
   "source": [
    "# Import the Vgg 16 library as shown below and add preprocessing layer to the front of VGG\n",
    "# Here we will be using imagenet weights\n",
    "\n",
    "mobilnet = VGG19(input_shape=IMAGE_SIZE + [3], weights='imagenet', include_top=False)\n",
    "\n",
    "\n"
   ]
  },
  {
   "cell_type": "code",
   "execution_count": 4,
   "metadata": {
    "executionInfo": {
     "elapsed": 177,
     "status": "ok",
     "timestamp": 1630766701876,
     "user": {
      "displayName": "4227_Anushka Sawant",
      "photoUrl": "https://lh3.googleusercontent.com/a-/AOh14GgxjPPD3ZrdXhw5mOWqmI8da0j34Pa1VI458CA3sQ=s64",
      "userId": "01062978812365864678"
     },
     "user_tz": -330
    },
    "id": "HPy-glyx8tIc"
   },
   "outputs": [],
   "source": [
    "# don't train existing weights\n",
    "for layer in mobilnet.layers:\n",
    "    layer.trainable = False"
   ]
  },
  {
   "cell_type": "code",
   "execution_count": 5,
   "metadata": {
    "executionInfo": {
     "elapsed": 174,
     "status": "ok",
     "timestamp": 1630766701877,
     "user": {
      "displayName": "4227_Anushka Sawant",
      "photoUrl": "https://lh3.googleusercontent.com/a-/AOh14GgxjPPD3ZrdXhw5mOWqmI8da0j34Pa1VI458CA3sQ=s64",
      "userId": "01062978812365864678"
     },
     "user_tz": -330
    },
    "id": "FZ819Q9I8tId"
   },
   "outputs": [],
   "source": [
    "  # useful for getting number of output classes\n",
    "folders = glob('C:\\\\Users\\\\Anushka\\\\Desktop\\\\DMWminiproject\\\\Dataset\\\\Dataset\\\\Train\\\\*')"
   ]
  },
  {
   "cell_type": "code",
   "execution_count": 6,
   "metadata": {
    "colab": {
     "base_uri": "https://localhost:8080/"
    },
    "executionInfo": {
     "elapsed": 173,
     "status": "ok",
     "timestamp": 1630766701879,
     "user": {
      "displayName": "4227_Anushka Sawant",
      "photoUrl": "https://lh3.googleusercontent.com/a-/AOh14GgxjPPD3ZrdXhw5mOWqmI8da0j34Pa1VI458CA3sQ=s64",
      "userId": "01062978812365864678"
     },
     "user_tz": -330
    },
    "id": "kY6ZktvI8tId",
    "outputId": "c5b4464d-e683-47d5-9d22-2abb73bc081a"
   },
   "outputs": [
    {
     "data": {
      "text/plain": [
       "['C:\\\\Users\\\\Anushka\\\\Desktop\\\\DMWminiproject\\\\Dataset\\\\Dataset\\\\Train\\\\Parasite',\n",
       " 'C:\\\\Users\\\\Anushka\\\\Desktop\\\\DMWminiproject\\\\Dataset\\\\Dataset\\\\Train\\\\Uninfected']"
      ]
     },
     "execution_count": 6,
     "metadata": {},
     "output_type": "execute_result"
    }
   ],
   "source": [
    "folders"
   ]
  },
  {
   "cell_type": "code",
   "execution_count": 7,
   "metadata": {
    "executionInfo": {
     "elapsed": 915,
     "status": "ok",
     "timestamp": 1630766702629,
     "user": {
      "displayName": "4227_Anushka Sawant",
      "photoUrl": "https://lh3.googleusercontent.com/a-/AOh14GgxjPPD3ZrdXhw5mOWqmI8da0j34Pa1VI458CA3sQ=s64",
      "userId": "01062978812365864678"
     },
     "user_tz": -330
    },
    "id": "NYrxO79j8tIe"
   },
   "outputs": [],
   "source": [
    "# our layers - you can add more if you want\n",
    "x = Flatten()(mobilnet.output)"
   ]
  },
  {
   "cell_type": "code",
   "execution_count": 8,
   "metadata": {
    "executionInfo": {
     "elapsed": 262,
     "status": "ok",
     "timestamp": 1630766702633,
     "user": {
      "displayName": "4227_Anushka Sawant",
      "photoUrl": "https://lh3.googleusercontent.com/a-/AOh14GgxjPPD3ZrdXhw5mOWqmI8da0j34Pa1VI458CA3sQ=s64",
      "userId": "01062978812365864678"
     },
     "user_tz": -330
    },
    "id": "E-xfTH5Z8tIg"
   },
   "outputs": [],
   "source": [
    "prediction = Dense(len(folders), activation='softmax')(x)\n",
    "\n",
    "# create a model object\n",
    "model = Model(inputs=mobilnet.input, outputs=prediction)"
   ]
  },
  {
   "cell_type": "code",
   "execution_count": 9,
   "metadata": {
    "colab": {
     "base_uri": "https://localhost:8080/"
    },
    "executionInfo": {
     "elapsed": 263,
     "status": "ok",
     "timestamp": 1630766702635,
     "user": {
      "displayName": "4227_Anushka Sawant",
      "photoUrl": "https://lh3.googleusercontent.com/a-/AOh14GgxjPPD3ZrdXhw5mOWqmI8da0j34Pa1VI458CA3sQ=s64",
      "userId": "01062978812365864678"
     },
     "user_tz": -330
    },
    "id": "eAoagxmS8tIh",
    "outputId": "ff8ebc18-2d3c-4628-f313-b3334a778902"
   },
   "outputs": [
    {
     "name": "stdout",
     "output_type": "stream",
     "text": [
      "Model: \"model\"\n",
      "_________________________________________________________________\n",
      "Layer (type)                 Output Shape              Param #   \n",
      "=================================================================\n",
      "input_1 (InputLayer)         [(None, 224, 224, 3)]     0         \n",
      "_________________________________________________________________\n",
      "block1_conv1 (Conv2D)        (None, 224, 224, 64)      1792      \n",
      "_________________________________________________________________\n",
      "block1_conv2 (Conv2D)        (None, 224, 224, 64)      36928     \n",
      "_________________________________________________________________\n",
      "block1_pool (MaxPooling2D)   (None, 112, 112, 64)      0         \n",
      "_________________________________________________________________\n",
      "block2_conv1 (Conv2D)        (None, 112, 112, 128)     73856     \n",
      "_________________________________________________________________\n",
      "block2_conv2 (Conv2D)        (None, 112, 112, 128)     147584    \n",
      "_________________________________________________________________\n",
      "block2_pool (MaxPooling2D)   (None, 56, 56, 128)       0         \n",
      "_________________________________________________________________\n",
      "block3_conv1 (Conv2D)        (None, 56, 56, 256)       295168    \n",
      "_________________________________________________________________\n",
      "block3_conv2 (Conv2D)        (None, 56, 56, 256)       590080    \n",
      "_________________________________________________________________\n",
      "block3_conv3 (Conv2D)        (None, 56, 56, 256)       590080    \n",
      "_________________________________________________________________\n",
      "block3_conv4 (Conv2D)        (None, 56, 56, 256)       590080    \n",
      "_________________________________________________________________\n",
      "block3_pool (MaxPooling2D)   (None, 28, 28, 256)       0         \n",
      "_________________________________________________________________\n",
      "block4_conv1 (Conv2D)        (None, 28, 28, 512)       1180160   \n",
      "_________________________________________________________________\n",
      "block4_conv2 (Conv2D)        (None, 28, 28, 512)       2359808   \n",
      "_________________________________________________________________\n",
      "block4_conv3 (Conv2D)        (None, 28, 28, 512)       2359808   \n",
      "_________________________________________________________________\n",
      "block4_conv4 (Conv2D)        (None, 28, 28, 512)       2359808   \n",
      "_________________________________________________________________\n",
      "block4_pool (MaxPooling2D)   (None, 14, 14, 512)       0         \n",
      "_________________________________________________________________\n",
      "block5_conv1 (Conv2D)        (None, 14, 14, 512)       2359808   \n",
      "_________________________________________________________________\n",
      "block5_conv2 (Conv2D)        (None, 14, 14, 512)       2359808   \n",
      "_________________________________________________________________\n",
      "block5_conv3 (Conv2D)        (None, 14, 14, 512)       2359808   \n",
      "_________________________________________________________________\n",
      "block5_conv4 (Conv2D)        (None, 14, 14, 512)       2359808   \n",
      "_________________________________________________________________\n",
      "block5_pool (MaxPooling2D)   (None, 7, 7, 512)         0         \n",
      "_________________________________________________________________\n",
      "flatten (Flatten)            (None, 25088)             0         \n",
      "_________________________________________________________________\n",
      "dense (Dense)                (None, 2)                 50178     \n",
      "=================================================================\n",
      "Total params: 20,074,562\n",
      "Trainable params: 50,178\n",
      "Non-trainable params: 20,024,384\n",
      "_________________________________________________________________\n"
     ]
    }
   ],
   "source": [
    "\n",
    "# view the structure of the model\n",
    "model.summary()\n"
   ]
  },
  {
   "cell_type": "code",
   "execution_count": 10,
   "metadata": {
    "executionInfo": {
     "elapsed": 262,
     "status": "ok",
     "timestamp": 1630766702637,
     "user": {
      "displayName": "4227_Anushka Sawant",
      "photoUrl": "https://lh3.googleusercontent.com/a-/AOh14GgxjPPD3ZrdXhw5mOWqmI8da0j34Pa1VI458CA3sQ=s64",
      "userId": "01062978812365864678"
     },
     "user_tz": -330
    },
    "id": "qXpkSmiJ8tIh"
   },
   "outputs": [],
   "source": [
    "#from tensorflow.keras.layers import MaxPooling2D"
   ]
  },
  {
   "cell_type": "markdown",
   "metadata": {
    "colab": {
     "base_uri": "https://localhost:8080/"
    },
    "executionInfo": {
     "elapsed": 262,
     "status": "ok",
     "timestamp": 1630766702638,
     "user": {
      "displayName": "4227_Anushka Sawant",
      "photoUrl": "https://lh3.googleusercontent.com/a-/AOh14GgxjPPD3ZrdXhw5mOWqmI8da0j34Pa1VI458CA3sQ=s64",
      "userId": "01062978812365864678"
     },
     "user_tz": -330
    },
    "id": "1z4N0QND8tIi",
    "outputId": "b300e3c6-c402-4596-d160-6d92f022a32d"
   },
   "source": [
    "### Create Model from scratch using CNN\n",
    "model=Sequential()\n",
    "model.add(Conv2D(filters=16,kernel_size=2,padding=\"same\",activation=\"relu\",input_shape=(224,224,3)))\n",
    "model.add(MaxPooling2D(pool_size=2))\n",
    "model.add(Conv2D(filters=32,kernel_size=2,padding=\"same\",activation =\"relu\"))\n",
    "model.add(MaxPooling2D(pool_size=2))\n",
    "model.add(Conv2D(filters=64,kernel_size=2,padding=\"same\",activation=\"relu\"))\n",
    "model.add(MaxPooling2D(pool_size=2))\n",
    "model.add(Flatten())\n",
    "model.add(Dense(500,activation=\"relu\"))\n",
    "model.add(Dense(2,activation=\"softmax\"))\n",
    "model.summary()"
   ]
  },
  {
   "cell_type": "code",
   "execution_count": 11,
   "metadata": {
    "executionInfo": {
     "elapsed": 259,
     "status": "ok",
     "timestamp": 1630766702639,
     "user": {
      "displayName": "4227_Anushka Sawant",
      "photoUrl": "https://lh3.googleusercontent.com/a-/AOh14GgxjPPD3ZrdXhw5mOWqmI8da0j34Pa1VI458CA3sQ=s64",
      "userId": "01062978812365864678"
     },
     "user_tz": -330
    },
    "id": "C8tlZRdW8tIj"
   },
   "outputs": [],
   "source": [
    "# tell the model what cost and optimization method to use\n",
    "model.compile(\n",
    "  loss='categorical_crossentropy',\n",
    "  optimizer='adam',\n",
    "  metrics=['accuracy']\n",
    ")\n"
   ]
  },
  {
   "cell_type": "code",
   "execution_count": 12,
   "metadata": {
    "executionInfo": {
     "elapsed": 259,
     "status": "ok",
     "timestamp": 1630766702640,
     "user": {
      "displayName": "4227_Anushka Sawant",
      "photoUrl": "https://lh3.googleusercontent.com/a-/AOh14GgxjPPD3ZrdXhw5mOWqmI8da0j34Pa1VI458CA3sQ=s64",
      "userId": "01062978812365864678"
     },
     "user_tz": -330
    },
    "id": "4MLZI3vL8tIj"
   },
   "outputs": [],
   "source": [
    "# Use the Image Data Generator to import the images from the dataset\n",
    "from tensorflow.keras.preprocessing.image import ImageDataGenerator\n",
    "\n",
    "train_datagen = ImageDataGenerator(rescale = 1./255,\n",
    "                                   shear_range = 0.2,\n",
    "                                   zoom_range = 0.2,\n",
    "                                   horizontal_flip = True)\n",
    "\n",
    "test_datagen = ImageDataGenerator(rescale = 1./255)"
   ]
  },
  {
   "cell_type": "code",
   "execution_count": 13,
   "metadata": {
    "colab": {
     "base_uri": "https://localhost:8080/"
    },
    "executionInfo": {
     "elapsed": 3336,
     "status": "ok",
     "timestamp": 1630766705718,
     "user": {
      "displayName": "4227_Anushka Sawant",
      "photoUrl": "https://lh3.googleusercontent.com/a-/AOh14GgxjPPD3ZrdXhw5mOWqmI8da0j34Pa1VI458CA3sQ=s64",
      "userId": "01062978812365864678"
     },
     "user_tz": -330
    },
    "id": "vdB-NL-O8tIj",
    "outputId": "88e30ef3-470a-4b7b-c65e-eebfd2223eb3"
   },
   "outputs": [
    {
     "name": "stdout",
     "output_type": "stream",
     "text": [
      "Found 416 images belonging to 2 classes.\n"
     ]
    }
   ],
   "source": [
    "# Make sure you provide the same target size as initialied for the image size\n",
    "training_set = train_datagen.flow_from_directory('C:\\\\Users\\\\Anushka\\\\Desktop\\\\DMWminiproject\\\\Dataset\\\\Dataset\\\\Train',\n",
    "                                                 target_size = (224, 224),\n",
    "                                                 batch_size = 32,\n",
    "                                                 class_mode = 'categorical')"
   ]
  },
  {
   "cell_type": "code",
   "execution_count": 14,
   "metadata": {
    "colab": {
     "base_uri": "https://localhost:8080/"
    },
    "executionInfo": {
     "elapsed": 23,
     "status": "ok",
     "timestamp": 1630766705718,
     "user": {
      "displayName": "4227_Anushka Sawant",
      "photoUrl": "https://lh3.googleusercontent.com/a-/AOh14GgxjPPD3ZrdXhw5mOWqmI8da0j34Pa1VI458CA3sQ=s64",
      "userId": "01062978812365864678"
     },
     "user_tz": -330
    },
    "id": "6LjQa2c58tIk",
    "outputId": "1b380ea1-084f-440c-82f2-8074313dcd0b"
   },
   "outputs": [
    {
     "data": {
      "text/plain": [
       "<keras.preprocessing.image.DirectoryIterator at 0x1c13e224790>"
      ]
     },
     "execution_count": 14,
     "metadata": {},
     "output_type": "execute_result"
    }
   ],
   "source": [
    "training_set"
   ]
  },
  {
   "cell_type": "code",
   "execution_count": 15,
   "metadata": {
    "colab": {
     "base_uri": "https://localhost:8080/"
    },
    "executionInfo": {
     "elapsed": 16,
     "status": "ok",
     "timestamp": 1630766705720,
     "user": {
      "displayName": "4227_Anushka Sawant",
      "photoUrl": "https://lh3.googleusercontent.com/a-/AOh14GgxjPPD3ZrdXhw5mOWqmI8da0j34Pa1VI458CA3sQ=s64",
      "userId": "01062978812365864678"
     },
     "user_tz": -330
    },
    "id": "AZeztljv8tIk",
    "outputId": "a1651158-4102-45f8-fcbb-6dd9a0e11deb"
   },
   "outputs": [
    {
     "name": "stdout",
     "output_type": "stream",
     "text": [
      "Found 134 images belonging to 2 classes.\n"
     ]
    }
   ],
   "source": [
    "test_set = test_datagen.flow_from_directory('C:\\\\Users\\\\Anushka\\\\Desktop\\\\DMWminiproject\\\\Dataset\\\\Dataset\\\\Test',\n",
    "                                            target_size = (224, 224),\n",
    "                                            batch_size = 32,\n",
    "                                            class_mode = 'categorical')"
   ]
  },
  {
   "cell_type": "code",
   "execution_count": 16,
   "metadata": {
    "colab": {
     "base_uri": "https://localhost:8080/"
    },
    "executionInfo": {
     "elapsed": 1162667,
     "status": "ok",
     "timestamp": 1630767868375,
     "user": {
      "displayName": "4227_Anushka Sawant",
      "photoUrl": "https://lh3.googleusercontent.com/a-/AOh14GgxjPPD3ZrdXhw5mOWqmI8da0j34Pa1VI458CA3sQ=s64",
      "userId": "01062978812365864678"
     },
     "user_tz": -330
    },
    "id": "pCo5SFG28tIl",
    "outputId": "42037a81-c190-48b8-b629-b31c1e364a20",
    "scrolled": false
   },
   "outputs": [
    {
     "name": "stderr",
     "output_type": "stream",
     "text": [
      "C:\\Users\\Anushka\\anaconda3\\lib\\site-packages\\keras\\engine\\training.py:1972: UserWarning: `Model.fit_generator` is deprecated and will be removed in a future version. Please use `Model.fit`, which supports generators.\n",
      "  warnings.warn('`Model.fit_generator` is deprecated and '\n"
     ]
    },
    {
     "name": "stdout",
     "output_type": "stream",
     "text": [
      "Epoch 1/4\n",
      "13/13 [==============================] - 276s 21s/step - loss: 1.8441 - accuracy: 0.5096 - val_loss: 1.6842 - val_accuracy: 0.3582\n",
      "Epoch 2/4\n",
      "13/13 [==============================] - 272s 21s/step - loss: 0.9254 - accuracy: 0.5962 - val_loss: 0.7175 - val_accuracy: 0.6194\n",
      "Epoch 3/4\n",
      "13/13 [==============================] - 270s 21s/step - loss: 0.5889 - accuracy: 0.7332 - val_loss: 0.4971 - val_accuracy: 0.7164\n",
      "Epoch 4/4\n",
      "13/13 [==============================] - 269s 21s/step - loss: 0.4131 - accuracy: 0.8125 - val_loss: 0.4437 - val_accuracy: 0.7985\n"
     ]
    }
   ],
   "source": [
    "# fit the model\n",
    "# Run the cell. It will take some time to execute\n",
    "r = model.fit_generator(\n",
    "  training_set,\n",
    "  validation_data=test_set,\n",
    "  epochs=4,\n",
    "  steps_per_epoch=len(training_set),\n",
    "  validation_steps=len(test_set)\n",
    ")"
   ]
  },
  {
   "cell_type": "code",
   "execution_count": 17,
   "metadata": {
    "colab": {
     "base_uri": "https://localhost:8080/",
     "height": 532
    },
    "executionInfo": {
     "elapsed": 199,
     "status": "ok",
     "timestamp": 1630767868376,
     "user": {
      "displayName": "4227_Anushka Sawant",
      "photoUrl": "https://lh3.googleusercontent.com/a-/AOh14GgxjPPD3ZrdXhw5mOWqmI8da0j34Pa1VI458CA3sQ=s64",
      "userId": "01062978812365864678"
     },
     "user_tz": -330
    },
    "id": "NjYT97VE8tIm",
    "outputId": "e438cde5-45de-41e6-f587-7aa3be870626"
   },
   "outputs": [
    {
     "data": {
      "image/png": "[encoded data removed]",
      "text/plain": [
       "<Figure size 432x288 with 1 Axes>"
      ]
     },
     "metadata": {
      "needs_background": "light"
     },
     "output_type": "display_data"
    },
    {
     "data": {
      "image/png": "[encoded data removed]",
      "text/plain": [
       "<Figure size 432x288 with 1 Axes>"
      ]
     },
     "metadata": {
      "needs_background": "light"
     },
     "output_type": "display_data"
    },
    {
     "data": {
      "text/plain": [
       "<Figure size 432x288 with 0 Axes>"
      ]
     },
     "metadata": {},
     "output_type": "display_data"
    }
   ],
   "source": [
    "# plot the loss\n",
    "plt.plot(r.history['loss'], label='train loss')\n",
    "plt.plot(r.history['val_loss'], label='val loss')\n",
    "plt.legend()\n",
    "plt.show()\n",
    "plt.savefig('LossVal_loss')\n",
    "\n",
    "# plot the accuracy\n",
    "plt.plot(r.history['accuracy'], label='train acc')\n",
    "plt.plot(r.history['val_accuracy'], label='val acc')\n",
    "plt.legend()\n",
    "plt.show()\n",
    "plt.savefig('AccVal_acc')"
   ]
  },
  {
   "cell_type": "code",
   "execution_count": 18,
   "metadata": {
    "executionInfo": {
     "elapsed": 471,
     "status": "ok",
     "timestamp": 1630767868838,
     "user": {
      "displayName": "4227_Anushka Sawant",
      "photoUrl": "https://lh3.googleusercontent.com/a-/AOh14GgxjPPD3ZrdXhw5mOWqmI8da0j34Pa1VI458CA3sQ=s64",
      "userId": "01062978812365864678"
     },
     "user_tz": -330
    },
    "id": "0aDMoHPF8tIm"
   },
   "outputs": [],
   "source": [
    "# save it as a h5 file\n",
    "\n",
    "\n",
    "from tensorflow.keras.models import load_model\n",
    "\n",
    "model.save('model_vgg19.h5')"
   ]
  },
  {
   "cell_type": "code",
   "execution_count": 19,
   "metadata": {
    "executionInfo": {
     "elapsed": 1838,
     "status": "ok",
     "timestamp": 1630767870665,
     "user": {
      "displayName": "4227_Anushka Sawant",
      "photoUrl": "https://lh3.googleusercontent.com/a-/AOh14GgxjPPD3ZrdXhw5mOWqmI8da0j34Pa1VI458CA3sQ=s64",
      "userId": "01062978812365864678"
     },
     "user_tz": -330
    },
    "id": "G_ngx3hS8tIn"
   },
   "outputs": [],
   "source": [
    "\n",
    "y_pred = model.predict(test_set)\n"
   ]
  },
  {
   "cell_type": "code",
   "execution_count": 20,
   "metadata": {
    "colab": {
     "base_uri": "https://localhost:8080/"
    },
    "executionInfo": {
     "elapsed": 35,
     "status": "ok",
     "timestamp": 1630767870666,
     "user": {
      "displayName": "4227_Anushka Sawant",
      "photoUrl": "https://lh3.googleusercontent.com/a-/AOh14GgxjPPD3ZrdXhw5mOWqmI8da0j34Pa1VI458CA3sQ=s64",
      "userId": "01062978812365864678"
     },
     "user_tz": -330
    },
    "id": "LbUz6Y6P8tIn",
    "outputId": "6a81a385-f1f4-4bf9-87bf-282c6bd3b707"
   },
   "outputs": [
    {
     "data": {
      "text/plain": [
       "array([[0.98034865, 0.01965131],\n",
       "       [0.6970859 , 0.30291402],\n",
       "       [0.2165235 , 0.78347653],\n",
       "       [0.264805  , 0.73519504],\n",
       "       [0.99160504, 0.0083949 ],\n",
       "       [0.30036393, 0.6996361 ],\n",
       "       [0.39502552, 0.6049745 ],\n",
       "       [0.15708454, 0.8429155 ],\n",
       "       [0.9045553 , 0.09544473],\n",
       "       [0.9363013 , 0.06369874],\n",
       "       [0.90685016, 0.0931498 ],\n",
       "       [0.8011635 , 0.19883648],\n",
       "       [0.8082703 , 0.19172974],\n",
       "       [0.41412005, 0.5858799 ],\n",
       "       [0.38861582, 0.6113842 ],\n",
       "       [0.3300964 , 0.66990364],\n",
       "       [0.7201788 , 0.27982125],\n",
       "       [0.31278086, 0.6872191 ],\n",
       "       [0.9805219 , 0.01947809],\n",
       "       [0.24547389, 0.75452614],\n",
       "       [0.98339844, 0.01660151],\n",
       "       [0.81940687, 0.18059318],\n",
       "       [0.15665755, 0.8433425 ],\n",
       "       [0.9507808 , 0.04921918],\n",
       "       [0.591994  , 0.408006  ],\n",
       "       [0.16906877, 0.83093125],\n",
       "       [0.4293342 , 0.5706658 ],\n",
       "       [0.7089952 , 0.2910048 ],\n",
       "       [0.33375582, 0.66624427],\n",
       "       [0.3616126 , 0.63838744],\n",
       "       [0.19954614, 0.8004539 ],\n",
       "       [0.94496137, 0.05503863],\n",
       "       [0.40631658, 0.5936834 ],\n",
       "       [0.9952421 , 0.00475785],\n",
       "       [0.4969807 , 0.5030193 ],\n",
       "       [0.45961446, 0.5403855 ],\n",
       "       [0.9243801 , 0.07561988],\n",
       "       [0.9871169 , 0.01288311],\n",
       "       [0.9049927 , 0.09500736],\n",
       "       [0.18078396, 0.819216  ],\n",
       "       [0.16119675, 0.83880323],\n",
       "       [0.49959362, 0.5004064 ],\n",
       "       [0.55700856, 0.44299144],\n",
       "       [0.9637327 , 0.03626728],\n",
       "       [0.89960045, 0.10039954],\n",
       "       [0.45390406, 0.5460959 ],\n",
       "       [0.68673587, 0.31326413],\n",
       "       [0.51661044, 0.48338953],\n",
       "       [0.62469846, 0.37530163],\n",
       "       [0.22280948, 0.77719057],\n",
       "       [0.857725  , 0.14227498],\n",
       "       [0.5541437 , 0.44585627],\n",
       "       [0.18792035, 0.8120797 ],\n",
       "       [0.41441283, 0.5855871 ],\n",
       "       [0.327968  , 0.67203194],\n",
       "       [0.30499667, 0.6950034 ],\n",
       "       [0.8403895 , 0.15961057],\n",
       "       [0.4542116 , 0.54578847],\n",
       "       [0.13283028, 0.86716974],\n",
       "       [0.6233825 , 0.37661746],\n",
       "       [0.43846145, 0.5615385 ],\n",
       "       [0.25917968, 0.74082035],\n",
       "       [0.9203134 , 0.0796866 ],\n",
       "       [0.17397393, 0.8260261 ],\n",
       "       [0.64343077, 0.35656914],\n",
       "       [0.83221173, 0.16778825],\n",
       "       [0.30207932, 0.6979207 ],\n",
       "       [0.36202738, 0.6379726 ],\n",
       "       [0.83462757, 0.16537239],\n",
       "       [0.3519229 , 0.64807713],\n",
       "       [0.89629453, 0.10370545],\n",
       "       [0.92942953, 0.07057051],\n",
       "       [0.2962779 , 0.7037221 ],\n",
       "       [0.45698565, 0.54301435],\n",
       "       [0.19250572, 0.80749434],\n",
       "       [0.17468807, 0.8253119 ],\n",
       "       [0.9500851 , 0.04991491],\n",
       "       [0.87327933, 0.12672062],\n",
       "       [0.21592234, 0.7840777 ],\n",
       "       [0.87106496, 0.12893502],\n",
       "       [0.19647168, 0.80352837],\n",
       "       [0.31665325, 0.6833468 ],\n",
       "       [0.35382244, 0.6461776 ],\n",
       "       [0.5560954 , 0.44390455],\n",
       "       [0.50318277, 0.49681726],\n",
       "       [0.9083906 , 0.09160942],\n",
       "       [0.57328135, 0.42671862],\n",
       "       [0.9537823 , 0.04621773],\n",
       "       [0.9793578 , 0.02064216],\n",
       "       [0.3200775 , 0.6799225 ],\n",
       "       [0.25413677, 0.7458632 ],\n",
       "       [0.45091113, 0.5490889 ],\n",
       "       [0.88571906, 0.11428099],\n",
       "       [0.54011977, 0.45988026],\n",
       "       [0.96856433, 0.0314357 ],\n",
       "       [0.8143261 , 0.18567382],\n",
       "       [0.50828314, 0.49171692],\n",
       "       [0.14037432, 0.85962564],\n",
       "       [0.76641524, 0.23358478],\n",
       "       [0.19530644, 0.8046935 ],\n",
       "       [0.36737147, 0.6326285 ],\n",
       "       [0.46427312, 0.53572685],\n",
       "       [0.46061814, 0.53938186],\n",
       "       [0.3864508 , 0.61354923],\n",
       "       [0.5529875 , 0.44701245],\n",
       "       [0.7716639 , 0.2283361 ],\n",
       "       [0.8000088 , 0.19999123],\n",
       "       [0.46910655, 0.5308935 ],\n",
       "       [0.3837719 , 0.61622804],\n",
       "       [0.22048774, 0.7795122 ],\n",
       "       [0.6130261 , 0.3869739 ],\n",
       "       [0.8449432 , 0.15505683],\n",
       "       [0.9136553 , 0.08634469],\n",
       "       [0.9197093 , 0.08029065],\n",
       "       [0.26707688, 0.73292315],\n",
       "       [0.59846395, 0.4015361 ],\n",
       "       [0.88015836, 0.11984159],\n",
       "       [0.15092792, 0.8490721 ],\n",
       "       [0.7126245 , 0.28737548],\n",
       "       [0.6631966 , 0.33680335],\n",
       "       [0.9598804 , 0.04011963],\n",
       "       [0.69555235, 0.30444765],\n",
       "       [0.40581173, 0.59418833],\n",
       "       [0.35116127, 0.64883864],\n",
       "       [0.99691004, 0.00309001],\n",
       "       [0.67929053, 0.32070938],\n",
       "       [0.9661442 , 0.03385583],\n",
       "       [0.1383119 , 0.86168814],\n",
       "       [0.42595324, 0.57404673],\n",
       "       [0.87893486, 0.12106509],\n",
       "       [0.6577838 , 0.34221622],\n",
       "       [0.2743593 , 0.72564065],\n",
       "       [0.14771377, 0.8522863 ],\n",
       "       [0.8064927 , 0.1935073 ]], dtype=float32)"
      ]
     },
     "execution_count": 20,
     "metadata": {},
     "output_type": "execute_result"
    }
   ],
   "source": [
    "y_pred"
   ]
  },
  {
   "cell_type": "code",
   "execution_count": 21,
   "metadata": {
    "executionInfo": {
     "elapsed": 20,
     "status": "ok",
     "timestamp": 1630767870667,
     "user": {
      "displayName": "4227_Anushka Sawant",
      "photoUrl": "https://lh3.googleusercontent.com/a-/AOh14GgxjPPD3ZrdXhw5mOWqmI8da0j34Pa1VI458CA3sQ=s64",
      "userId": "01062978812365864678"
     },
     "user_tz": -330
    },
    "id": "W4Bd6_Eo8tIo"
   },
   "outputs": [],
   "source": [
    "import numpy as np\n",
    "y_pred = np.argmax(y_pred, axis=1)"
   ]
  },
  {
   "cell_type": "code",
   "execution_count": 2,
   "metadata": {
    "colab": {
     "base_uri": "https://localhost:8080/"
    },
    "executionInfo": {
     "elapsed": 18,
     "status": "ok",
     "timestamp": 1630767870668,
     "user": {
      "displayName": "4227_Anushka Sawant",
      "photoUrl": "https://lh3.googleusercontent.com/a-/AOh14GgxjPPD3ZrdXhw5mOWqmI8da0j34Pa1VI458CA3sQ=s64",
      "userId": "01062978812365864678"
     },
     "user_tz": -330
    },
    "id": "sDdsOkkO8tIo",
    "outputId": "b426794f-dbea-492a-cd07-c1c7919cad39"
   },
   "outputs": [
    {
     "ename": "NameError",
     "evalue": "name 'array' is not defined",
     "output_type": "error",
     "traceback": [
      "\u001b[1;31m---------------------------------------------------------------------------\u001b[0m",
      "\u001b[1;31mNameError\u001b[0m                                 Traceback (most recent call last)",
      "\u001b[1;32m<ipython-input-2-3661267cfb20>\u001b[0m in \u001b[0;36m<module>\u001b[1;34m\u001b[0m\n\u001b[1;32m----> 1\u001b[1;33m y_pred=array([0, 0, 1, 1, 0, 1, 1, 1, 0, 0, 0, 0, 0, 1, 1, 1, 0, 1, 0, 1, 0, 0,\n\u001b[0m\u001b[0;32m      2\u001b[0m        \u001b[1;36m1\u001b[0m\u001b[1;33m,\u001b[0m \u001b[1;36m0\u001b[0m\u001b[1;33m,\u001b[0m \u001b[1;36m0\u001b[0m\u001b[1;33m,\u001b[0m \u001b[1;36m1\u001b[0m\u001b[1;33m,\u001b[0m \u001b[1;36m1\u001b[0m\u001b[1;33m,\u001b[0m \u001b[1;36m0\u001b[0m\u001b[1;33m,\u001b[0m \u001b[1;36m1\u001b[0m\u001b[1;33m,\u001b[0m \u001b[1;36m1\u001b[0m\u001b[1;33m,\u001b[0m \u001b[1;36m1\u001b[0m\u001b[1;33m,\u001b[0m \u001b[1;36m0\u001b[0m\u001b[1;33m,\u001b[0m \u001b[1;36m1\u001b[0m\u001b[1;33m,\u001b[0m \u001b[1;36m0\u001b[0m\u001b[1;33m,\u001b[0m \u001b[1;36m1\u001b[0m\u001b[1;33m,\u001b[0m \u001b[1;36m1\u001b[0m\u001b[1;33m,\u001b[0m \u001b[1;36m0\u001b[0m\u001b[1;33m,\u001b[0m \u001b[1;36m0\u001b[0m\u001b[1;33m,\u001b[0m \u001b[1;36m0\u001b[0m\u001b[1;33m,\u001b[0m \u001b[1;36m1\u001b[0m\u001b[1;33m,\u001b[0m \u001b[1;36m1\u001b[0m\u001b[1;33m,\u001b[0m \u001b[1;36m1\u001b[0m\u001b[1;33m,\u001b[0m \u001b[1;36m0\u001b[0m\u001b[1;33m,\u001b[0m \u001b[1;36m0\u001b[0m\u001b[1;33m,\u001b[0m\u001b[1;33m\u001b[0m\u001b[1;33m\u001b[0m\u001b[0m\n\u001b[0;32m      3\u001b[0m        \u001b[1;36m0\u001b[0m\u001b[1;33m,\u001b[0m \u001b[1;36m1\u001b[0m\u001b[1;33m,\u001b[0m \u001b[1;36m0\u001b[0m\u001b[1;33m,\u001b[0m \u001b[1;36m0\u001b[0m\u001b[1;33m,\u001b[0m \u001b[1;36m0\u001b[0m\u001b[1;33m,\u001b[0m \u001b[1;36m1\u001b[0m\u001b[1;33m,\u001b[0m \u001b[1;36m0\u001b[0m\u001b[1;33m,\u001b[0m \u001b[1;36m0\u001b[0m\u001b[1;33m,\u001b[0m \u001b[1;36m1\u001b[0m\u001b[1;33m,\u001b[0m \u001b[1;36m1\u001b[0m\u001b[1;33m,\u001b[0m \u001b[1;36m1\u001b[0m\u001b[1;33m,\u001b[0m \u001b[1;36m1\u001b[0m\u001b[1;33m,\u001b[0m \u001b[1;36m0\u001b[0m\u001b[1;33m,\u001b[0m \u001b[1;36m1\u001b[0m\u001b[1;33m,\u001b[0m \u001b[1;36m1\u001b[0m\u001b[1;33m,\u001b[0m \u001b[1;36m0\u001b[0m\u001b[1;33m,\u001b[0m \u001b[1;36m1\u001b[0m\u001b[1;33m,\u001b[0m \u001b[1;36m1\u001b[0m\u001b[1;33m,\u001b[0m \u001b[1;36m0\u001b[0m\u001b[1;33m,\u001b[0m \u001b[1;36m1\u001b[0m\u001b[1;33m,\u001b[0m \u001b[1;36m0\u001b[0m\u001b[1;33m,\u001b[0m \u001b[1;36m0\u001b[0m\u001b[1;33m,\u001b[0m\u001b[1;33m\u001b[0m\u001b[1;33m\u001b[0m\u001b[0m\n\u001b[0;32m      4\u001b[0m        \u001b[1;36m1\u001b[0m\u001b[1;33m,\u001b[0m \u001b[1;36m1\u001b[0m\u001b[1;33m,\u001b[0m \u001b[1;36m0\u001b[0m\u001b[1;33m,\u001b[0m \u001b[1;36m1\u001b[0m\u001b[1;33m,\u001b[0m \u001b[1;36m0\u001b[0m\u001b[1;33m,\u001b[0m \u001b[1;36m0\u001b[0m\u001b[1;33m,\u001b[0m \u001b[1;36m1\u001b[0m\u001b[1;33m,\u001b[0m \u001b[1;36m1\u001b[0m\u001b[1;33m,\u001b[0m \u001b[1;36m1\u001b[0m\u001b[1;33m,\u001b[0m \u001b[1;36m1\u001b[0m\u001b[1;33m,\u001b[0m \u001b[1;36m0\u001b[0m\u001b[1;33m,\u001b[0m \u001b[1;36m0\u001b[0m\u001b[1;33m,\u001b[0m \u001b[1;36m1\u001b[0m\u001b[1;33m,\u001b[0m \u001b[1;36m0\u001b[0m\u001b[1;33m,\u001b[0m \u001b[1;36m1\u001b[0m\u001b[1;33m,\u001b[0m \u001b[1;36m1\u001b[0m\u001b[1;33m,\u001b[0m \u001b[1;36m1\u001b[0m\u001b[1;33m,\u001b[0m \u001b[1;36m0\u001b[0m\u001b[1;33m,\u001b[0m \u001b[1;36m0\u001b[0m\u001b[1;33m,\u001b[0m \u001b[1;36m0\u001b[0m\u001b[1;33m,\u001b[0m \u001b[1;36m0\u001b[0m\u001b[1;33m,\u001b[0m \u001b[1;36m0\u001b[0m\u001b[1;33m,\u001b[0m\u001b[1;33m\u001b[0m\u001b[1;33m\u001b[0m\u001b[0m\n\u001b[0;32m      5\u001b[0m        \u001b[1;36m0\u001b[0m\u001b[1;33m,\u001b[0m \u001b[1;36m1\u001b[0m\u001b[1;33m,\u001b[0m \u001b[1;36m1\u001b[0m\u001b[1;33m,\u001b[0m \u001b[1;36m1\u001b[0m\u001b[1;33m,\u001b[0m \u001b[1;36m0\u001b[0m\u001b[1;33m,\u001b[0m \u001b[1;36m0\u001b[0m\u001b[1;33m,\u001b[0m \u001b[1;36m0\u001b[0m\u001b[1;33m,\u001b[0m \u001b[1;36m0\u001b[0m\u001b[1;33m,\u001b[0m \u001b[1;36m0\u001b[0m\u001b[1;33m,\u001b[0m \u001b[1;36m1\u001b[0m\u001b[1;33m,\u001b[0m \u001b[1;36m0\u001b[0m\u001b[1;33m,\u001b[0m \u001b[1;36m1\u001b[0m\u001b[1;33m,\u001b[0m \u001b[1;36m1\u001b[0m\u001b[1;33m,\u001b[0m \u001b[1;36m1\u001b[0m\u001b[1;33m,\u001b[0m \u001b[1;36m1\u001b[0m\u001b[1;33m,\u001b[0m \u001b[1;36m1\u001b[0m\u001b[1;33m,\u001b[0m \u001b[1;36m0\u001b[0m\u001b[1;33m,\u001b[0m \u001b[1;36m0\u001b[0m\u001b[1;33m,\u001b[0m \u001b[1;36m0\u001b[0m\u001b[1;33m,\u001b[0m \u001b[1;36m1\u001b[0m\u001b[1;33m,\u001b[0m \u001b[1;36m1\u001b[0m\u001b[1;33m,\u001b[0m \u001b[1;36m1\u001b[0m\u001b[1;33m,\u001b[0m\u001b[1;33m\u001b[0m\u001b[1;33m\u001b[0m\u001b[0m\n",
      "\u001b[1;31mNameError\u001b[0m: name 'array' is not defined"
     ]
    }
   ],
   "source": [
    "y_pred"
   ]
  },
  {
   "cell_type": "code",
   "execution_count": 1,
   "metadata": {
    "executionInfo": {
     "elapsed": 12,
     "status": "ok",
     "timestamp": 1630767870668,
     "user": {
      "displayName": "4227_Anushka Sawant",
      "photoUrl": "https://lh3.googleusercontent.com/a-/AOh14GgxjPPD3ZrdXhw5mOWqmI8da0j34Pa1VI458CA3sQ=s64",
      "userId": "01062978812365864678"
     },
     "user_tz": -330
    },
    "id": "dxSFsPFG8tIp"
   },
   "outputs": [
    {
     "ename": "NameError",
     "evalue": "name 'y_pred' is not defined",
     "output_type": "error",
     "traceback": [
      "\u001b[1;31m---------------------------------------------------------------------------\u001b[0m",
      "\u001b[1;31mNameError\u001b[0m                                 Traceback (most recent call last)",
      "\u001b[1;32m<ipython-input-1-adecdd2c1af0>\u001b[0m in \u001b[0;36m<module>\u001b[1;34m\u001b[0m\n\u001b[1;32m----> 1\u001b[1;33m \u001b[0my_pred\u001b[0m\u001b[1;33m[\u001b[0m\u001b[1;36m0\u001b[0m\u001b[1;33m]\u001b[0m\u001b[1;33m[\u001b[0m\u001b[1;36m0\u001b[0m\u001b[1;33m]\u001b[0m\u001b[1;33m\u001b[0m\u001b[1;33m\u001b[0m\u001b[0m\n\u001b[0m",
      "\u001b[1;31mNameError\u001b[0m: name 'y_pred' is not defined"
     ]
    }
   ],
   "source": [
    "y_pred[0][0]"
   ]
  },
  {
   "cell_type": "code",
   "execution_count": 23,
   "metadata": {
    "executionInfo": {
     "elapsed": 12,
     "status": "ok",
     "timestamp": 1630767870669,
     "user": {
      "displayName": "4227_Anushka Sawant",
      "photoUrl": "https://lh3.googleusercontent.com/a-/AOh14GgxjPPD3ZrdXhw5mOWqmI8da0j34Pa1VI458CA3sQ=s64",
      "userId": "01062978812365864678"
     },
     "user_tz": -330
    },
    "id": "qprPMeJp8tIq"
   },
   "outputs": [],
   "source": [
    "from tensorflow.keras.models import load_model\n",
    "from tensorflow.keras.preprocessing import image"
   ]
  },
  {
   "cell_type": "code",
   "execution_count": 24,
   "metadata": {
    "executionInfo": {
     "elapsed": 418,
     "status": "ok",
     "timestamp": 1630767871077,
     "user": {
      "displayName": "4227_Anushka Sawant",
      "photoUrl": "https://lh3.googleusercontent.com/a-/AOh14GgxjPPD3ZrdXhw5mOWqmI8da0j34Pa1VI458CA3sQ=s64",
      "userId": "01062978812365864678"
     },
     "user_tz": -330
    },
    "id": "MgWfzi-h8tIq"
   },
   "outputs": [],
   "source": [
    "model=load_model('model_vgg19.h5')"
   ]
  },
  {
   "cell_type": "code",
   "execution_count": null,
   "metadata": {
    "executionInfo": {
     "elapsed": 19,
     "status": "ok",
     "timestamp": 1630767871078,
     "user": {
      "displayName": "4227_Anushka Sawant",
      "photoUrl": "https://lh3.googleusercontent.com/a-/AOh14GgxjPPD3ZrdXhw5mOWqmI8da0j34Pa1VI458CA3sQ=s64",
      "userId": "01062978812365864678"
     },
     "user_tz": -330
    },
    "id": "hye3UZr08tIq"
   },
   "outputs": [],
   "source": []
  },
  {
   "cell_type": "code",
   "execution_count": 35,
   "metadata": {
    "executionInfo": {
     "elapsed": 19,
     "status": "ok",
     "timestamp": 1630767871079,
     "user": {
      "displayName": "4227_Anushka Sawant",
      "photoUrl": "https://lh3.googleusercontent.com/a-/AOh14GgxjPPD3ZrdXhw5mOWqmI8da0j34Pa1VI458CA3sQ=s64",
      "userId": "01062978812365864678"
     },
     "user_tz": -330
    },
    "id": "Xbru3EuL8tIq"
   },
   "outputs": [],
   "source": [
    "img=image.load_img('C:\\\\Users\\\\Anushka\\\\Desktop\\\\DMWminiproject\\\\Dataset\\\\Dataset\\\\Test\\\\Uninfected\\\\C3thin_original_IMG_20150608_162922_cell_211.png',target_size=(224,224))\n",
    "\n"
   ]
  },
  {
   "cell_type": "code",
   "execution_count": 36,
   "metadata": {
    "colab": {
     "base_uri": "https://localhost:8080/"
    },
    "executionInfo": {
     "elapsed": 18,
     "status": "ok",
     "timestamp": 1630767871079,
     "user": {
      "displayName": "4227_Anushka Sawant",
      "photoUrl": "https://lh3.googleusercontent.com/a-/AOh14GgxjPPD3ZrdXhw5mOWqmI8da0j34Pa1VI458CA3sQ=s64",
      "userId": "01062978812365864678"
     },
     "user_tz": -330
    },
    "id": "ptfdcr2r8tIr",
    "outputId": "fb2a79ad-474a-4898-919b-52f04a69732d"
   },
   "outputs": [
    {
     "data": {
      "text/plain": [
       "array([[[0., 0., 0.],\n",
       "        [0., 0., 0.],\n",
       "        [0., 0., 0.],\n",
       "        ...,\n",
       "        [0., 0., 0.],\n",
       "        [0., 0., 0.],\n",
       "        [0., 0., 0.]],\n",
       "\n",
       "       [[0., 0., 0.],\n",
       "        [0., 0., 0.],\n",
       "        [0., 0., 0.],\n",
       "        ...,\n",
       "        [0., 0., 0.],\n",
       "        [0., 0., 0.],\n",
       "        [0., 0., 0.]],\n",
       "\n",
       "       [[0., 0., 0.],\n",
       "        [0., 0., 0.],\n",
       "        [0., 0., 0.],\n",
       "        ...,\n",
       "        [0., 0., 0.],\n",
       "        [0., 0., 0.],\n",
       "        [0., 0., 0.]],\n",
       "\n",
       "       ...,\n",
       "\n",
       "       [[0., 0., 0.],\n",
       "        [0., 0., 0.],\n",
       "        [0., 0., 0.],\n",
       "        ...,\n",
       "        [0., 0., 0.],\n",
       "        [0., 0., 0.],\n",
       "        [0., 0., 0.]],\n",
       "\n",
       "       [[0., 0., 0.],\n",
       "        [0., 0., 0.],\n",
       "        [0., 0., 0.],\n",
       "        ...,\n",
       "        [0., 0., 0.],\n",
       "        [0., 0., 0.],\n",
       "        [0., 0., 0.]],\n",
       "\n",
       "       [[0., 0., 0.],\n",
       "        [0., 0., 0.],\n",
       "        [0., 0., 0.],\n",
       "        ...,\n",
       "        [0., 0., 0.],\n",
       "        [0., 0., 0.],\n",
       "        [0., 0., 0.]]], dtype=float32)"
      ]
     },
     "execution_count": 36,
     "metadata": {},
     "output_type": "execute_result"
    }
   ],
   "source": [
    "x=image.img_to_array(img)\n",
    "x"
   ]
  },
  {
   "cell_type": "code",
   "execution_count": 37,
   "metadata": {
    "colab": {
     "base_uri": "https://localhost:8080/"
    },
    "executionInfo": {
     "elapsed": 18,
     "status": "ok",
     "timestamp": 1630767871080,
     "user": {
      "displayName": "4227_Anushka Sawant",
      "photoUrl": "https://lh3.googleusercontent.com/a-/AOh14GgxjPPD3ZrdXhw5mOWqmI8da0j34Pa1VI458CA3sQ=s64",
      "userId": "01062978812365864678"
     },
     "user_tz": -330
    },
    "id": "1R4XKZGk8tIr",
    "outputId": "ee098d08-1071-4b68-bf02-9d0538093372"
   },
   "outputs": [
    {
     "data": {
      "text/plain": [
       "(224, 224, 3)"
      ]
     },
     "execution_count": 37,
     "metadata": {},
     "output_type": "execute_result"
    }
   ],
   "source": [
    "x.shape"
   ]
  },
  {
   "cell_type": "code",
   "execution_count": 38,
   "metadata": {
    "executionInfo": {
     "elapsed": 17,
     "status": "ok",
     "timestamp": 1630767871081,
     "user": {
      "displayName": "4227_Anushka Sawant",
      "photoUrl": "https://lh3.googleusercontent.com/a-/AOh14GgxjPPD3ZrdXhw5mOWqmI8da0j34Pa1VI458CA3sQ=s64",
      "userId": "01062978812365864678"
     },
     "user_tz": -330
    },
    "id": "KnB_wDrX8tIr"
   },
   "outputs": [],
   "source": [
    "x=x/255"
   ]
  },
  {
   "cell_type": "code",
   "execution_count": 39,
   "metadata": {
    "colab": {
     "base_uri": "https://localhost:8080/"
    },
    "executionInfo": {
     "elapsed": 16,
     "status": "ok",
     "timestamp": 1630767871081,
     "user": {
      "displayName": "4227_Anushka Sawant",
      "photoUrl": "https://lh3.googleusercontent.com/a-/AOh14GgxjPPD3ZrdXhw5mOWqmI8da0j34Pa1VI458CA3sQ=s64",
      "userId": "01062978812365864678"
     },
     "user_tz": -330
    },
    "id": "MICUqc3b8tIs",
    "outputId": "f50fe517-2fbb-49fe-c1ff-31ed314b0cce"
   },
   "outputs": [
    {
     "data": {
      "text/plain": [
       "(1, 224, 224, 3)"
      ]
     },
     "execution_count": 39,
     "metadata": {},
     "output_type": "execute_result"
    }
   ],
   "source": [
    "x=np.expand_dims(x,axis=0)\n",
    "img_data=preprocess_input(x)\n",
    "img_data.shape"
   ]
  },
  {
   "cell_type": "code",
   "execution_count": 40,
   "metadata": {
    "colab": {
     "base_uri": "https://localhost:8080/"
    },
    "executionInfo": {
     "elapsed": 15,
     "status": "ok",
     "timestamp": 1630767871082,
     "user": {
      "displayName": "4227_Anushka Sawant",
      "photoUrl": "https://lh3.googleusercontent.com/a-/AOh14GgxjPPD3ZrdXhw5mOWqmI8da0j34Pa1VI458CA3sQ=s64",
      "userId": "01062978812365864678"
     },
     "user_tz": -330
    },
    "id": "Z0-K7cNx8tIs",
    "outputId": "76e7b2d6-db8c-4b05-8792-500c95724156"
   },
   "outputs": [
    {
     "data": {
      "text/plain": [
       "array([[0.9966853, 0.0033147]], dtype=float32)"
      ]
     },
     "execution_count": 40,
     "metadata": {},
     "output_type": "execute_result"
    }
   ],
   "source": [
    "model.predict(img_data)"
   ]
  },
  {
   "cell_type": "code",
   "execution_count": 41,
   "metadata": {
    "executionInfo": {
     "elapsed": 13,
     "status": "ok",
     "timestamp": 1630767871082,
     "user": {
      "displayName": "4227_Anushka Sawant",
      "photoUrl": "https://lh3.googleusercontent.com/a-/AOh14GgxjPPD3ZrdXhw5mOWqmI8da0j34Pa1VI458CA3sQ=s64",
      "userId": "01062978812365864678"
     },
     "user_tz": -330
    },
    "id": "KMkV5y-d8tIs"
   },
   "outputs": [
    {
     "name": "stdout",
     "output_type": "stream",
     "text": [
      "[0]\n"
     ]
    }
   ],
   "source": [
    "a=np.argmax(model.predict(img_data), axis=1)\n",
    "print(a)"
   ]
  },
  {
   "cell_type": "code",
   "execution_count": 32,
   "metadata": {
    "colab": {
     "base_uri": "https://localhost:8080/"
    },
    "executionInfo": {
     "elapsed": 13,
     "status": "ok",
     "timestamp": 1630767871083,
     "user": {
      "displayName": "4227_Anushka Sawant",
      "photoUrl": "https://lh3.googleusercontent.com/a-/AOh14GgxjPPD3ZrdXhw5mOWqmI8da0j34Pa1VI458CA3sQ=s64",
      "userId": "01062978812365864678"
     },
     "user_tz": -330
    },
    "id": "SUYTNZu98tIt",
    "outputId": "39340f0d-261b-4e47-932b-52414b8d2696"
   },
   "outputs": [
    {
     "name": "stdout",
     "output_type": "stream",
     "text": [
      "Infected\n"
     ]
    }
   ],
   "source": [
    "if(a==1):\n",
    "    print(\"Uninfected\")\n",
    "else:\n",
    "    print(\"Infected\")"
   ]
  },
  {
   "cell_type": "code",
   "execution_count": 33,
   "metadata": {
    "colab": {
     "base_uri": "https://localhost:8080/"
    },
    "id": "vIfLknuZ8tIt",
    "outputId": "9431ea69-9ac9-4ea4-cec1-5b16289a50ec",
    "scrolled": true
   },
   "outputs": [
    {
     "name": "stdout",
     "output_type": "stream",
     "text": [
      " * Serving Flask app \"__main__\" (lazy loading)\n",
      " * Environment: production\n",
      "   WARNING: This is a development server. Do not use it in a production deployment.\n",
      "   Use a production WSGI server instead.\n",
      " * Debug mode: off\n"
     ]
    },
    {
     "name": "stderr",
     "output_type": "stream",
     "text": [
      " * Running on http://127.0.0.1:5000/ (Press CTRL+C to quit)\n",
      "127.0.0.1 - - [05/Sep/2021 15:25:32] \"\u001b[37mGET / HTTP/1.1\u001b[0m\" 200 -\n",
      "127.0.0.1 - - [05/Sep/2021 15:25:43] \"\u001b[37mPOST /predict HTTP/1.1\u001b[0m\" 200 -\n",
      "127.0.0.1 - - [05/Sep/2021 15:26:06] \"\u001b[37mPOST /predict HTTP/1.1\u001b[0m\" 200 -\n",
      "127.0.0.1 - - [05/Sep/2021 15:26:14] \"\u001b[37mPOST /predict HTTP/1.1\u001b[0m\" 200 -\n",
      "127.0.0.1 - - [05/Sep/2021 15:26:21] \"\u001b[37mPOST /predict HTTP/1.1\u001b[0m\" 200 -\n"
     ]
    }
   ],
   "source": [
    "from flask import Flask, flash, request, redirect, url_for, render_template\n",
    "import urllib.request\n",
    "import os\n",
    "from werkzeug.utils import secure_filename\n",
    "import matplotlib.pyplot as plt\n",
    "import numpy as np\n",
    "from keras.preprocessing.image import img_to_array, load_img\n",
    " \n",
    "app = Flask(__name__)\n",
    "\n",
    "UPLOAD_FOLDER = 'C:\\\\Users\\\\Anushka\\\\Desktop\\\\DMWminiproject\\\\static\\\\uploads'\n",
    "app.secret_key = \"secret key\"\n",
    "app.config['UPLOAD_FOLDER'] = UPLOAD_FOLDER\n",
    "app.config['MAX_CONTENT_LENGTH'] = 16 * 1024 * 1024\n",
    " \n",
    "ALLOWED_EXTENSIONS = set(['png', 'jpg', 'jpeg', 'gif'])\n",
    "\n",
    "\n",
    "\n",
    "\n",
    "\n",
    "\n",
    "\n",
    "def model_predict(img_path, model):\n",
    "    img = image.load_img(img_path, target_size=(224, 224))\n",
    "\n",
    "    # Preprocessing the image\n",
    "    x = image.img_to_array(img)\n",
    "    # x = np.true_divide(x, 255)\n",
    "    ## Scaling\n",
    "    x=x/255\n",
    "    x = np.expand_dims(x, axis=0)\n",
    "   \n",
    "\n",
    "    # Be careful how your trained model deals with the input\n",
    "    # otherwise, it won't make correct prediction!\n",
    "    x = preprocess_input(x)\n",
    "\n",
    "    preds = model.predict(x)\n",
    "    preds=np.argmax(preds, axis=1)\n",
    "    if preds==0:\n",
    "        preds=\"The Person is Infected With Pneumonia\"\n",
    "    else:\n",
    "        preds=\"The Person is not Infected With Pneumonia\"\n",
    "    \n",
    "    \n",
    "    return preds\n",
    "\n",
    "\n",
    " \n",
    "def allowed_file(filename):\n",
    "    return '.' in filename and filename.rsplit('.', 1)[1].lower() in ALLOWED_EXTENSIONS\n",
    "     \n",
    " \n",
    "# Model saved with Keras model.save()\n",
    "MODEL_PATH ='model_vgg19.h5'\n",
    "\n",
    "# Load your trained model\n",
    "model = load_model(MODEL_PATH)\n",
    "\n",
    "\n",
    "@app.route('/')\n",
    "def home():\n",
    "    return render_template('index.html')\n",
    " \n",
    "@app.route('/predict', methods=['POST'])\n",
    "def upload():\n",
    "    if 'file' not in request.files:\n",
    "        flash('No file part')\n",
    "        return redirect(request.url)\n",
    "    file = request.files['file']\n",
    "    if file.filename == '':\n",
    "        flash('No image selected for uploading')\n",
    "        return redirect(request.url)\n",
    "    if file and allowed_file(file.filename):\n",
    "        filename = secure_filename(file.filename)\n",
    "        file.save(os.path.join(app.config['UPLOAD_FOLDER'], filename))\n",
    "        #print('upload_image filename: ' + filename)\n",
    "        fullpaths = ['C:\\\\Users\\\\Anushka\\\\Desktop\\\\DMWminiproject\\\\static\\\\uploads\\\\{}'.format(filename)]\n",
    "        #print(fullpaths)\n",
    "        \n",
    "        preds = model_predict(fullpaths[0], model)\n",
    "        result=preds\n",
    "        return result\n",
    "    \n",
    "            \n",
    "if __name__ == \"__main__\":\n",
    "    app.run()"
   ]
  },
  {
   "cell_type": "code",
   "execution_count": null,
   "metadata": {},
   "outputs": [],
   "source": []
  },
  {
   "cell_type": "code",
   "execution_count": null,
   "metadata": {},
   "outputs": [],
   "source": []
  },
  {
   "cell_type": "code",
   "execution_count": null,
   "metadata": {},
   "outputs": [],
   "source": []
  },
  {
   "cell_type": "code",
   "execution_count": null,
   "metadata": {},
   "outputs": [],
   "source": []
  }
 ],
 "metadata": {
  "colab": {
   "collapsed_sections": [],
   "name": "CNN And Transfer LEarning.ipynb",
   "provenance": []
  },
  "kernelspec": {
   "display_name": "Python 3",
   "language": "python",
   "name": "python3"
  },
  "language_info": {
   "codemirror_mode": {
    "name": "ipython",
    "version": 3
   },
   "file_extension": ".py",
   "mimetype": "text/x-python",
   "name": "python",
   "nbconvert_exporter": "python",
   "pygments_lexer": "ipython3",
   "version": "3.8.8"
  }
 },
 "nbformat": 4,
 "nbformat_minor": 1
}
